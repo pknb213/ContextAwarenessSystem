{
 "cells": [
  {
   "cell_type": "code",
   "execution_count": 1,
   "metadata": {
    "collapsed": true,
    "pycharm": {
     "is_executing": false
    }
   },
   "outputs": [
    {
     "name": "stdout",
     "text": [
      "Create Pandas DataFrame\n"
     ],
     "output_type": "stream"
    }
   ],
   "source": [
    "from influxdb import InfluxDBClient, DataFrameClient\n",
    "import pandas as pd\n",
    "import argparse\n",
    "\n",
    "def main(host='localhost', port=8086):\n",
    "    user = 'root'\n",
    "    password = 'root'\n",
    "    dbname = 'test'\n",
    "    protocol = 'line'\n",
    "    client = DataFrameClient(host, port, user, password, dbname)\n",
    "    \n",
    "    print(\"Create Pandas DataFrame\")\n",
    "    \n",
    "def parse_args():\n",
    "    print('Not yet')\n",
    "     \n",
    "# json_body = [\n",
    "#     {\n",
    "#         \"measurement\": \"test00\",\n",
    "#         \"reqTime\": \n",
    "#     }\n",
    "# ]\n",
    "\n",
    "if __name__ == '__main__':\n",
    "    # args = parse_args()\n",
    "    main(host='localhost', port='8086')"
   ]
  }
 ],
 "metadata": {
  "kernelspec": {
   "name": "python3",
   "language": "python",
   "display_name": "Python 3"
  },
  "language_info": {
   "codemirror_mode": {
    "name": "ipython",
    "version": 2
   },
   "file_extension": ".py",
   "mimetype": "text/x-python",
   "name": "python",
   "nbconvert_exporter": "python",
   "pygments_lexer": "ipython2",
   "version": "2.7.6"
  },
  "pycharm": {
   "stem_cell": {
    "cell_type": "raw",
    "source": [],
    "metadata": {
     "collapsed": false
    }
   }
  }
 },
 "nbformat": 4,
 "nbformat_minor": 0
}